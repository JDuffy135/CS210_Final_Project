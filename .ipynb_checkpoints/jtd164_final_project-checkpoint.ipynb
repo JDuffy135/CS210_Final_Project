{
 "cells": [
  {
   "cell_type": "markdown",
   "id": "2babc625",
   "metadata": {},
   "source": [
    "METHODOLOGY: since I can't find any datasets containing all of the data that I want, I'm just going to generate the data myself. However, instead of randomly generating numbers all willy-nilly, I'm going to be meticulous with how I generate the data; I'm going to find research papers to that show how each feature (such as GPA, major, double major, school ranking, and internship participation) independently affects starting salary. To accomplish this, each starting salary will first be randomly generated based on a normal distribution created with the mean starting salary for the row's major based on degree type (standard deviation will be median salary / 3), and then this value will be multipled by some value which will be the average of all the multipliers taken together for all of the other features (all of which will be calculated independently).\n",
    "\n",
    "For example, let's say we're generating a starting salary based on a computer science bachelors degree. The salary will initially be chosen at random from a normal distribution whose mean is 91411 and standard deviation is 304703 (which is 91411 // 3). Let's say, hypothetically, that their school ranking, GPA, internship, and double major multipliers are (\n",
    "\n",
    "\n",
    "Features that impact starting salary: 1.) major, 2.) degree type, 3.) school ranking, 4.) GPA, 5.) internship or research experience, 6.) double major\n",
    "\n",
    "\n",
    "REFERENCES FOR HOW I WENT ABOUT SIMULATING DATA:\n",
    "\n",
    "[1] Class of 2023 Mean Starting Salary by Major & Degree Type: https://www.naceweb.org/job-market/graduate-outcomes/first-destination/class-of-2023/interactive-dashboard\n",
    "\n",
    "MEAN STARTING SALARIES BY MAJOR: (to find each salary range, make a normal distribution with the mean being the below values and the standard deviation equal to the mean divided by 3)\n",
    "* Computer Science: 91,411 (bachelors), 114,144 (masters)\n",
    "* Engineering: 80,085 (bachelors), 102,268 (masters)\n",
    "* Mathematics / Statistics: 79,859 (bachelors), 84,751 (masters)\n",
    "* Physical Sciences: 57,909 (bachelors), 76,881 (masters) \n",
    "* Biology: 47,839 (bachelors), 62,799 (masters)\n",
    "\n",
    "Average ratio between masters salary and bachelors salary for each major: 1.245\n",
    "\n",
    "\n",
    "[2] ..."
   ]
  },
  {
   "cell_type": "raw",
   "id": "c2142994",
   "metadata": {},
   "source": []
  }
 ],
 "metadata": {
  "kernelspec": {
   "display_name": "Python 3 (ipykernel)",
   "language": "python",
   "name": "python3"
  },
  "language_info": {
   "codemirror_mode": {
    "name": "ipython",
    "version": 3
   },
   "file_extension": ".py",
   "mimetype": "text/x-python",
   "name": "python",
   "nbconvert_exporter": "python",
   "pygments_lexer": "ipython3",
   "version": "3.11.7"
  }
 },
 "nbformat": 4,
 "nbformat_minor": 5
}
